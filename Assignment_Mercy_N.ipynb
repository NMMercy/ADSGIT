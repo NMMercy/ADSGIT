{
 "cells": [
  {
   "cell_type": "markdown",
   "metadata": {},
   "source": [
    "## Pandas\n",
    "\n",
    "### Instructions\n",
    "\n",
    "This assignment will be done completely inside this Jupyter notebook with answers placed in the cell provided.\n",
    "\n",
    "All python imports that are needed shown.\n",
    "\n",
    "Follow all the instructions in this notebook to complete these tasks.    \n",
    "\n",
    "Make sure the CSV data files is in the same folder as this notebook - alumni.csv, groceries.csv"
   ]
  },
  {
   "cell_type": "code",
   "execution_count": 157,
   "metadata": {},
   "outputs": [],
   "source": [
    "# Imports needed to complete this assignment\n",
    "import pandas as pds\n",
    "import os\n",
    "import matplotlib.pyplot as pt"
   ]
  },
  {
   "cell_type": "markdown",
   "metadata": {},
   "source": [
    "### Question 1 :  Import CSV file (1 Mark)\n",
    "\n",
    "\n",
    "Write code to load the alumni csv dataset into a Pandas DataFrame called 'alumni'.\n"
   ]
  },
  {
   "cell_type": "code",
   "execution_count": 3,
   "metadata": {},
   "outputs": [
    {
     "data": {
      "text/html": [
       "<div>\n",
       "<style scoped>\n",
       "    .dataframe tbody tr th:only-of-type {\n",
       "        vertical-align: middle;\n",
       "    }\n",
       "\n",
       "    .dataframe tbody tr th {\n",
       "        vertical-align: top;\n",
       "    }\n",
       "\n",
       "    .dataframe thead th {\n",
       "        text-align: right;\n",
       "    }\n",
       "</style>\n",
       "<table border=\"1\" class=\"dataframe\">\n",
       "  <thead>\n",
       "    <tr style=\"text-align: right;\">\n",
       "      <th></th>\n",
       "      <th>Year Graduated</th>\n",
       "      <th>Gender</th>\n",
       "      <th>Marital Status</th>\n",
       "      <th>Diploma Type</th>\n",
       "      <th>Defaulted</th>\n",
       "      <th>Salary</th>\n",
       "      <th>Fee</th>\n",
       "      <th>Savings ($)</th>\n",
       "    </tr>\n",
       "  </thead>\n",
       "  <tbody>\n",
       "    <tr>\n",
       "      <th>0</th>\n",
       "      <td>2004</td>\n",
       "      <td>Male</td>\n",
       "      <td>Single</td>\n",
       "      <td>Standard Diploma</td>\n",
       "      <td>Yes</td>\n",
       "      <td>125000</td>\n",
       "      <td>10869</td>\n",
       "      <td>$86,000</td>\n",
       "    </tr>\n",
       "    <tr>\n",
       "      <th>1</th>\n",
       "      <td>2005</td>\n",
       "      <td>Male</td>\n",
       "      <td>Married</td>\n",
       "      <td>College Prep Diploma</td>\n",
       "      <td>No</td>\n",
       "      <td>100000</td>\n",
       "      <td>10869</td>\n",
       "      <td>$116,000</td>\n",
       "    </tr>\n",
       "    <tr>\n",
       "      <th>2</th>\n",
       "      <td>2006</td>\n",
       "      <td>Female</td>\n",
       "      <td>Single</td>\n",
       "      <td>Standard Diploma</td>\n",
       "      <td>Yes</td>\n",
       "      <td>70000</td>\n",
       "      <td>10869</td>\n",
       "      <td>$52,000</td>\n",
       "    </tr>\n",
       "    <tr>\n",
       "      <th>3</th>\n",
       "      <td>2007</td>\n",
       "      <td>Male</td>\n",
       "      <td>Married</td>\n",
       "      <td>Standard Diploma</td>\n",
       "      <td>No</td>\n",
       "      <td>120000</td>\n",
       "      <td>10869</td>\n",
       "      <td>$76,000</td>\n",
       "    </tr>\n",
       "    <tr>\n",
       "      <th>4</th>\n",
       "      <td>2006</td>\n",
       "      <td>Female</td>\n",
       "      <td>Divorced</td>\n",
       "      <td>Standard Diploma</td>\n",
       "      <td>Yes</td>\n",
       "      <td>95000</td>\n",
       "      <td>11948</td>\n",
       "      <td>$52,000</td>\n",
       "    </tr>\n",
       "    <tr>\n",
       "      <th>...</th>\n",
       "      <td>...</td>\n",
       "      <td>...</td>\n",
       "      <td>...</td>\n",
       "      <td>...</td>\n",
       "      <td>...</td>\n",
       "      <td>...</td>\n",
       "      <td>...</td>\n",
       "      <td>...</td>\n",
       "    </tr>\n",
       "    <tr>\n",
       "      <th>83</th>\n",
       "      <td>2007</td>\n",
       "      <td>Male</td>\n",
       "      <td>Single</td>\n",
       "      <td>Standard Diploma</td>\n",
       "      <td>No</td>\n",
       "      <td>75000</td>\n",
       "      <td>12066</td>\n",
       "      <td>$16,000</td>\n",
       "    </tr>\n",
       "    <tr>\n",
       "      <th>84</th>\n",
       "      <td>2008</td>\n",
       "      <td>M</td>\n",
       "      <td>Single</td>\n",
       "      <td>College Prep Diploma</td>\n",
       "      <td>Yes</td>\n",
       "      <td>65000</td>\n",
       "      <td>12066</td>\n",
       "      <td>$72,000</td>\n",
       "    </tr>\n",
       "    <tr>\n",
       "      <th>85</th>\n",
       "      <td>2009</td>\n",
       "      <td>Male</td>\n",
       "      <td>Married</td>\n",
       "      <td>Standard Diploma</td>\n",
       "      <td>No</td>\n",
       "      <td>75000</td>\n",
       "      <td>12066</td>\n",
       "      <td>$46,000</td>\n",
       "    </tr>\n",
       "    <tr>\n",
       "      <th>86</th>\n",
       "      <td>2005</td>\n",
       "      <td>Female</td>\n",
       "      <td>Divorced</td>\n",
       "      <td>Standard Diploma</td>\n",
       "      <td>Yes</td>\n",
       "      <td>100000</td>\n",
       "      <td>12067</td>\n",
       "      <td>$32,000</td>\n",
       "    </tr>\n",
       "    <tr>\n",
       "      <th>87</th>\n",
       "      <td>2006</td>\n",
       "      <td>Male</td>\n",
       "      <td>Married</td>\n",
       "      <td>Standard Diploma</td>\n",
       "      <td>Yes</td>\n",
       "      <td>75000</td>\n",
       "      <td>12067</td>\n",
       "      <td>$67,000</td>\n",
       "    </tr>\n",
       "  </tbody>\n",
       "</table>\n",
       "<p>88 rows × 8 columns</p>\n",
       "</div>"
      ],
      "text/plain": [
       "    Year Graduated  Gender Marital Status          Diploma Type Defaulted  \\\n",
       "0             2004    Male         Single      Standard Diploma       Yes   \n",
       "1             2005    Male        Married  College Prep Diploma        No   \n",
       "2             2006  Female         Single      Standard Diploma       Yes   \n",
       "3             2007    Male        Married      Standard Diploma        No   \n",
       "4             2006  Female       Divorced      Standard Diploma       Yes   \n",
       "..             ...     ...            ...                   ...       ...   \n",
       "83            2007    Male         Single      Standard Diploma        No   \n",
       "84            2008       M         Single  College Prep Diploma       Yes   \n",
       "85            2009    Male        Married      Standard Diploma        No   \n",
       "86            2005  Female       Divorced      Standard Diploma       Yes   \n",
       "87            2006    Male        Married      Standard Diploma       Yes   \n",
       "\n",
       "    Salary    Fee Savings ($)  \n",
       "0   125000  10869     $86,000  \n",
       "1   100000  10869    $116,000  \n",
       "2    70000  10869     $52,000  \n",
       "3   120000  10869     $76,000  \n",
       "4    95000  11948     $52,000  \n",
       "..     ...    ...         ...  \n",
       "83   75000  12066     $16,000  \n",
       "84   65000  12066     $72,000  \n",
       "85   75000  12066     $46,000  \n",
       "86  100000  12067     $32,000  \n",
       "87   75000  12067     $67,000  \n",
       "\n",
       "[88 rows x 8 columns]"
      ]
     },
     "execution_count": 3,
     "metadata": {},
     "output_type": "execute_result"
    }
   ],
   "source": [
    "#q1 (1)\n",
    "al = pds.read_csv('alumni.csv')\n",
    "al"
   ]
  },
  {
   "cell_type": "markdown",
   "metadata": {},
   "source": [
    "### Question 2 :  Understand the data set (5 Marks)\n",
    "\n",
    "Use the following pandas commands to understand the data set: a) head, b) tail, c) dtypes, d) info, e) describe "
   ]
  },
  {
   "cell_type": "code",
   "execution_count": 6,
   "metadata": {},
   "outputs": [
    {
     "data": {
      "text/html": [
       "<div>\n",
       "<style scoped>\n",
       "    .dataframe tbody tr th:only-of-type {\n",
       "        vertical-align: middle;\n",
       "    }\n",
       "\n",
       "    .dataframe tbody tr th {\n",
       "        vertical-align: top;\n",
       "    }\n",
       "\n",
       "    .dataframe thead th {\n",
       "        text-align: right;\n",
       "    }\n",
       "</style>\n",
       "<table border=\"1\" class=\"dataframe\">\n",
       "  <thead>\n",
       "    <tr style=\"text-align: right;\">\n",
       "      <th></th>\n",
       "      <th>Year Graduated</th>\n",
       "      <th>Gender</th>\n",
       "      <th>Marital Status</th>\n",
       "      <th>Diploma Type</th>\n",
       "      <th>Defaulted</th>\n",
       "      <th>Salary</th>\n",
       "      <th>Fee</th>\n",
       "      <th>Savings ($)</th>\n",
       "    </tr>\n",
       "  </thead>\n",
       "  <tbody>\n",
       "    <tr>\n",
       "      <th>0</th>\n",
       "      <td>2004</td>\n",
       "      <td>Male</td>\n",
       "      <td>Single</td>\n",
       "      <td>Standard Diploma</td>\n",
       "      <td>Yes</td>\n",
       "      <td>125000</td>\n",
       "      <td>10869</td>\n",
       "      <td>$86,000</td>\n",
       "    </tr>\n",
       "    <tr>\n",
       "      <th>1</th>\n",
       "      <td>2005</td>\n",
       "      <td>Male</td>\n",
       "      <td>Married</td>\n",
       "      <td>College Prep Diploma</td>\n",
       "      <td>No</td>\n",
       "      <td>100000</td>\n",
       "      <td>10869</td>\n",
       "      <td>$116,000</td>\n",
       "    </tr>\n",
       "    <tr>\n",
       "      <th>2</th>\n",
       "      <td>2006</td>\n",
       "      <td>Female</td>\n",
       "      <td>Single</td>\n",
       "      <td>Standard Diploma</td>\n",
       "      <td>Yes</td>\n",
       "      <td>70000</td>\n",
       "      <td>10869</td>\n",
       "      <td>$52,000</td>\n",
       "    </tr>\n",
       "    <tr>\n",
       "      <th>3</th>\n",
       "      <td>2007</td>\n",
       "      <td>Male</td>\n",
       "      <td>Married</td>\n",
       "      <td>Standard Diploma</td>\n",
       "      <td>No</td>\n",
       "      <td>120000</td>\n",
       "      <td>10869</td>\n",
       "      <td>$76,000</td>\n",
       "    </tr>\n",
       "  </tbody>\n",
       "</table>\n",
       "</div>"
      ],
      "text/plain": [
       "   Year Graduated  Gender Marital Status          Diploma Type Defaulted  \\\n",
       "0            2004    Male         Single      Standard Diploma       Yes   \n",
       "1            2005    Male        Married  College Prep Diploma        No   \n",
       "2            2006  Female         Single      Standard Diploma       Yes   \n",
       "3            2007    Male        Married      Standard Diploma        No   \n",
       "\n",
       "   Salary    Fee Savings ($)  \n",
       "0  125000  10869     $86,000  \n",
       "1  100000  10869    $116,000  \n",
       "2   70000  10869     $52,000  \n",
       "3  120000  10869     $76,000  "
      ]
     },
     "execution_count": 6,
     "metadata": {},
     "output_type": "execute_result"
    }
   ],
   "source": [
    "#a) (1)\n",
    "#getting the first four rows\n",
    "al.head(4)"
   ]
  },
  {
   "cell_type": "code",
   "execution_count": 13,
   "metadata": {},
   "outputs": [
    {
     "data": {
      "text/html": [
       "<div>\n",
       "<style scoped>\n",
       "    .dataframe tbody tr th:only-of-type {\n",
       "        vertical-align: middle;\n",
       "    }\n",
       "\n",
       "    .dataframe tbody tr th {\n",
       "        vertical-align: top;\n",
       "    }\n",
       "\n",
       "    .dataframe thead th {\n",
       "        text-align: right;\n",
       "    }\n",
       "</style>\n",
       "<table border=\"1\" class=\"dataframe\">\n",
       "  <thead>\n",
       "    <tr style=\"text-align: right;\">\n",
       "      <th></th>\n",
       "      <th>Year Graduated</th>\n",
       "      <th>Gender</th>\n",
       "      <th>Marital Status</th>\n",
       "      <th>Diploma Type</th>\n",
       "      <th>Defaulted</th>\n",
       "      <th>Salary</th>\n",
       "      <th>Fee</th>\n",
       "      <th>Savings ($)</th>\n",
       "    </tr>\n",
       "  </thead>\n",
       "  <tbody>\n",
       "    <tr>\n",
       "      <th>84</th>\n",
       "      <td>2008</td>\n",
       "      <td>M</td>\n",
       "      <td>Single</td>\n",
       "      <td>College Prep Diploma</td>\n",
       "      <td>Yes</td>\n",
       "      <td>65000</td>\n",
       "      <td>12066</td>\n",
       "      <td>$72,000</td>\n",
       "    </tr>\n",
       "    <tr>\n",
       "      <th>85</th>\n",
       "      <td>2009</td>\n",
       "      <td>Male</td>\n",
       "      <td>Married</td>\n",
       "      <td>Standard Diploma</td>\n",
       "      <td>No</td>\n",
       "      <td>75000</td>\n",
       "      <td>12066</td>\n",
       "      <td>$46,000</td>\n",
       "    </tr>\n",
       "    <tr>\n",
       "      <th>86</th>\n",
       "      <td>2005</td>\n",
       "      <td>Female</td>\n",
       "      <td>Divorced</td>\n",
       "      <td>Standard Diploma</td>\n",
       "      <td>Yes</td>\n",
       "      <td>100000</td>\n",
       "      <td>12067</td>\n",
       "      <td>$32,000</td>\n",
       "    </tr>\n",
       "    <tr>\n",
       "      <th>87</th>\n",
       "      <td>2006</td>\n",
       "      <td>Male</td>\n",
       "      <td>Married</td>\n",
       "      <td>Standard Diploma</td>\n",
       "      <td>Yes</td>\n",
       "      <td>75000</td>\n",
       "      <td>12067</td>\n",
       "      <td>$67,000</td>\n",
       "    </tr>\n",
       "  </tbody>\n",
       "</table>\n",
       "</div>"
      ],
      "text/plain": [
       "    Year Graduated  Gender Marital Status          Diploma Type Defaulted  \\\n",
       "84            2008       M         Single  College Prep Diploma       Yes   \n",
       "85            2009    Male        Married      Standard Diploma        No   \n",
       "86            2005  Female       Divorced      Standard Diploma       Yes   \n",
       "87            2006    Male        Married      Standard Diploma       Yes   \n",
       "\n",
       "    Salary    Fee Savings ($)  \n",
       "84   65000  12066     $72,000  \n",
       "85   75000  12066     $46,000  \n",
       "86  100000  12067     $32,000  \n",
       "87   75000  12067     $67,000  "
      ]
     },
     "execution_count": 13,
     "metadata": {},
     "output_type": "execute_result"
    }
   ],
   "source": [
    "#b) (1)\n",
    "#getting the last four row\n",
    "al.tail(4)"
   ]
  },
  {
   "cell_type": "code",
   "execution_count": 21,
   "metadata": {},
   "outputs": [
    {
     "data": {
      "text/plain": [
       "Year Graduated     int64\n",
       "Gender            object\n",
       "Marital Status    object\n",
       "Diploma Type      object\n",
       "Defaulted         object\n",
       "Salary             int64\n",
       "Fee                int64\n",
       "Savings ($)       object\n",
       "dtype: object"
      ]
     },
     "execution_count": 21,
     "metadata": {},
     "output_type": "execute_result"
    }
   ],
   "source": [
    "#c) (1)\n",
    "al.dtypes"
   ]
  },
  {
   "cell_type": "code",
   "execution_count": 9,
   "metadata": {},
   "outputs": [
    {
     "name": "stdout",
     "output_type": "stream",
     "text": [
      "<class 'pandas.core.frame.DataFrame'>\n",
      "RangeIndex: 88 entries, 0 to 87\n",
      "Data columns (total 8 columns):\n",
      " #   Column          Non-Null Count  Dtype \n",
      "---  ------          --------------  ----- \n",
      " 0   Year Graduated  88 non-null     int64 \n",
      " 1   Gender          88 non-null     object\n",
      " 2   Marital Status  88 non-null     object\n",
      " 3   Diploma Type    88 non-null     object\n",
      " 4   Defaulted       88 non-null     object\n",
      " 5   Salary          88 non-null     int64 \n",
      " 6   Fee             88 non-null     int64 \n",
      " 7   Savings ($)     88 non-null     object\n",
      "dtypes: int64(3), object(5)\n",
      "memory usage: 3.8+ KB\n"
     ]
    }
   ],
   "source": [
    "#d) (1)\n",
    "al.info()"
   ]
  },
  {
   "cell_type": "code",
   "execution_count": 23,
   "metadata": {},
   "outputs": [
    {
     "data": {
      "text/html": [
       "<div>\n",
       "<style scoped>\n",
       "    .dataframe tbody tr th:only-of-type {\n",
       "        vertical-align: middle;\n",
       "    }\n",
       "\n",
       "    .dataframe tbody tr th {\n",
       "        vertical-align: top;\n",
       "    }\n",
       "\n",
       "    .dataframe thead th {\n",
       "        text-align: right;\n",
       "    }\n",
       "</style>\n",
       "<table border=\"1\" class=\"dataframe\">\n",
       "  <thead>\n",
       "    <tr style=\"text-align: right;\">\n",
       "      <th></th>\n",
       "      <th>Year Graduated</th>\n",
       "      <th>Salary</th>\n",
       "      <th>Fee</th>\n",
       "    </tr>\n",
       "  </thead>\n",
       "  <tbody>\n",
       "    <tr>\n",
       "      <th>count</th>\n",
       "      <td>88.000000</td>\n",
       "      <td>88.000000</td>\n",
       "      <td>88.000000</td>\n",
       "    </tr>\n",
       "    <tr>\n",
       "      <th>mean</th>\n",
       "      <td>2006.477273</td>\n",
       "      <td>84090.909091</td>\n",
       "      <td>11708.727273</td>\n",
       "    </tr>\n",
       "    <tr>\n",
       "      <th>std</th>\n",
       "      <td>1.560852</td>\n",
       "      <td>21234.128008</td>\n",
       "      <td>1110.647949</td>\n",
       "    </tr>\n",
       "    <tr>\n",
       "      <th>min</th>\n",
       "      <td>2004.000000</td>\n",
       "      <td>35000.000000</td>\n",
       "      <td>10869.000000</td>\n",
       "    </tr>\n",
       "    <tr>\n",
       "      <th>25%</th>\n",
       "      <td>2005.000000</td>\n",
       "      <td>75000.000000</td>\n",
       "      <td>10968.000000</td>\n",
       "    </tr>\n",
       "    <tr>\n",
       "      <th>50%</th>\n",
       "      <td>2006.500000</td>\n",
       "      <td>75000.000000</td>\n",
       "      <td>11696.000000</td>\n",
       "    </tr>\n",
       "    <tr>\n",
       "      <th>75%</th>\n",
       "      <td>2008.000000</td>\n",
       "      <td>90000.000000</td>\n",
       "      <td>12058.250000</td>\n",
       "    </tr>\n",
       "    <tr>\n",
       "      <th>max</th>\n",
       "      <td>2009.000000</td>\n",
       "      <td>160000.000000</td>\n",
       "      <td>20960.000000</td>\n",
       "    </tr>\n",
       "  </tbody>\n",
       "</table>\n",
       "</div>"
      ],
      "text/plain": [
       "       Year Graduated         Salary           Fee\n",
       "count       88.000000      88.000000     88.000000\n",
       "mean      2006.477273   84090.909091  11708.727273\n",
       "std          1.560852   21234.128008   1110.647949\n",
       "min       2004.000000   35000.000000  10869.000000\n",
       "25%       2005.000000   75000.000000  10968.000000\n",
       "50%       2006.500000   75000.000000  11696.000000\n",
       "75%       2008.000000   90000.000000  12058.250000\n",
       "max       2009.000000  160000.000000  20960.000000"
      ]
     },
     "execution_count": 23,
     "metadata": {},
     "output_type": "execute_result"
    }
   ],
   "source": [
    "#e) (1)\n",
    "al.describe()"
   ]
  },
  {
   "cell_type": "markdown",
   "metadata": {},
   "source": [
    "### Question 3 :  Cleaning the data set - part A (3 Marks)\n",
    "\n",
    "a) Use clean_currency method below to strip out commas and dollar signs from Savings ($) column and put into a new column called 'Savings'."
   ]
  },
  {
   "cell_type": "code",
   "execution_count": 32,
   "metadata": {},
   "outputs": [
    {
     "data": {
      "text/plain": [
       "66000.0"
      ]
     },
     "execution_count": 32,
     "metadata": {},
     "output_type": "execute_result"
    }
   ],
   "source": [
    "def clean_currency(curr):\n",
    "    return float(curr.replace(\",\", \"\").replace(\"$\", \"\"))\n",
    "\n",
    "clean_currency(\"$66,000\")\n",
    " "
   ]
  },
  {
   "cell_type": "code",
   "execution_count": 105,
   "metadata": {},
   "outputs": [
    {
     "name": "stdout",
     "output_type": "stream",
     "text": [
      "<class 'pandas.core.frame.DataFrame'>\n",
      "RangeIndex: 88 entries, 0 to 87\n",
      "Data columns (total 9 columns):\n",
      " #   Column          Non-Null Count  Dtype \n",
      "---  ------          --------------  ----- \n",
      " 0   Year Graduated  88 non-null     int64 \n",
      " 1   Gender          88 non-null     object\n",
      " 2   Marital Status  88 non-null     object\n",
      " 3   Diploma Type    88 non-null     object\n",
      " 4   Defaulted       88 non-null     object\n",
      " 5   Salary          88 non-null     object\n",
      " 6   Fee             88 non-null     int64 \n",
      " 7   Savings ($)     88 non-null     object\n",
      " 8   Savings         88 non-null     int32 \n",
      "dtypes: int32(1), int64(2), object(6)\n",
      "memory usage: 3.8+ KB\n"
     ]
    }
   ],
   "source": [
    "#a) (2)\n",
    "#al['Salary'] = pd.to_numeric(al[\"Savings ($)\"]).astype(float)\n",
    "al[\"Savings ($)\"] = al[\"Savings ($)\"].astype(str) \n",
    "#al[\"Savings ($)\"] = al[\"Savings ($)\"].replace('$', '')\n",
    "#al[\"Savings ($)\"] = al[\"Savings ($)\"].replace(',', '')\n",
    "al[\"Savings\"] = al[\"Savings ($)\"].replace({'\\$': '', ',': ''}, regex=True)\n",
    "al[\"Savings\"] = al[\"Savings\"].astype(int)\n",
    "al.info()"
   ]
  },
  {
   "cell_type": "markdown",
   "metadata": {},
   "source": [
    "b) Uncomment 'alumni.dtypes.Savings' to check that the type change has occurred"
   ]
  },
  {
   "cell_type": "code",
   "execution_count": 106,
   "metadata": {},
   "outputs": [
    {
     "data": {
      "text/plain": [
       "dtype('int32')"
      ]
     },
     "execution_count": 106,
     "metadata": {},
     "output_type": "execute_result"
    }
   ],
   "source": [
    "#b) (1)\n",
    "al.dtypes.Savings"
   ]
  },
  {
   "cell_type": "markdown",
   "metadata": {},
   "source": [
    "### Question 4 :  Cleaning the data set - part B (5 Marks)\n",
    "\n",
    "a) Run the 'alumni[\"Gender\"].value_counts()' to see the incorrect 'M' fields that need to be converted to 'Male'"
   ]
  },
  {
   "cell_type": "code",
   "execution_count": 88,
   "metadata": {},
   "outputs": [
    {
     "data": {
      "text/plain": [
       "Male      46\n",
       "Female    39\n",
       "M          3\n",
       "Name: Gender, dtype: int64"
      ]
     },
     "execution_count": 88,
     "metadata": {},
     "output_type": "execute_result"
    }
   ],
   "source": [
    "# a) (1)\n",
    "al[\"Gender\"].value_counts()"
   ]
  },
  {
   "cell_type": "markdown",
   "metadata": {},
   "source": [
    "b) Now use a '.str.replace' on the 'Gender' column to covert the incorrect 'M' fields. Hint: We must use ^...$ to restrict the pattern to match the whole string. "
   ]
  },
  {
   "cell_type": "code",
   "execution_count": 97,
   "metadata": {},
   "outputs": [],
   "source": [
    "# b) (1)\n",
    "al[\"Gender\"] = al[\"Gender\"].str.replace('^M$', 'Male',  regex=True)"
   ]
  },
  {
   "cell_type": "code",
   "execution_count": 98,
   "metadata": {},
   "outputs": [
    {
     "data": {
      "text/plain": [
       "0       Male\n",
       "1       Male\n",
       "2     Female\n",
       "3       Male\n",
       "4     Female\n",
       "       ...  \n",
       "83      Male\n",
       "84      Male\n",
       "85      Male\n",
       "86    Female\n",
       "87      Male\n",
       "Name: Gender, Length: 88, dtype: object"
      ]
     },
     "execution_count": 98,
     "metadata": {},
     "output_type": "execute_result"
    }
   ],
   "source": [
    "# b) (1)\n",
    "al[\"Gender\"]"
   ]
  },
  {
   "cell_type": "markdown",
   "metadata": {},
   "source": [
    "c) That didn't the set alumni[\"Gender\"] column however. You will need to update the column when using the replace command 'alumni[\"Gender\"]=<replace command>', show how this is done below"
   ]
  },
  {
   "cell_type": "code",
   "execution_count": 14,
   "metadata": {},
   "outputs": [],
   "source": [
    "# c) (1)\n",
    "#I DID ALREADY"
   ]
  },
  {
   "cell_type": "markdown",
   "metadata": {},
   "source": [
    "d) You can set it directly by using the df.loc command, show how this can be done by using the 'df.loc[row_indexer,col_indexer] = value' command to convert the 'M' to 'Male'"
   ]
  },
  {
   "cell_type": "code",
   "execution_count": 15,
   "metadata": {},
   "outputs": [],
   "source": [
    "# d) (1)\n"
   ]
  },
  {
   "cell_type": "markdown",
   "metadata": {},
   "source": [
    "e) Now run the 'value_counts' for Gender again to see the correct columns - 'Male' and 'Female' "
   ]
  },
  {
   "cell_type": "code",
   "execution_count": 99,
   "metadata": {},
   "outputs": [
    {
     "data": {
      "text/plain": [
       "Male      49\n",
       "Female    39\n",
       "Name: Gender, dtype: int64"
      ]
     },
     "execution_count": 99,
     "metadata": {},
     "output_type": "execute_result"
    }
   ],
   "source": [
    "# e) (1)\n",
    "al[\"Gender\"].value_counts()"
   ]
  },
  {
   "cell_type": "markdown",
   "metadata": {},
   "source": [
    "### Question 5 :  Working with the data set (4)\n",
    "\n",
    "a) get the median, b) mean and c) standard deviation for the 'Salary' column"
   ]
  },
  {
   "cell_type": "code",
   "execution_count": 122,
   "metadata": {},
   "outputs": [
    {
     "data": {
      "text/plain": [
       "0      86000\n",
       "1     116000\n",
       "2      52000\n",
       "3      76000\n",
       "4      52000\n",
       "       ...  \n",
       "83     16000\n",
       "84     72000\n",
       "85     46000\n",
       "86     32000\n",
       "87     67000\n",
       "Name: Salary, Length: 88, dtype: int32"
      ]
     },
     "execution_count": 122,
     "metadata": {},
     "output_type": "execute_result"
    }
   ],
   "source": [
    "#An error occured because i think 'salary' was not a numeric, so i had to cast it as integer first\n",
    "al['Salary'] = al['Salary'] .replace(',', '', regex=True)\n",
    "al['Salary'] = pd.to_numeric(al['Salary']).astype(int)\n",
    "al.dtypes.Salary\n",
    "al['Salary']"
   ]
  },
  {
   "cell_type": "code",
   "execution_count": 121,
   "metadata": {},
   "outputs": [
    {
     "data": {
      "text/plain": [
       "46000.0"
      ]
     },
     "execution_count": 121,
     "metadata": {},
     "output_type": "execute_result"
    }
   ],
   "source": [
    "# a)(1)\n",
    "al[\"Salary\"].median()"
   ]
  },
  {
   "cell_type": "code",
   "execution_count": 125,
   "metadata": {},
   "outputs": [
    {
     "data": {
      "text/plain": [
       "47954.545454545456"
      ]
     },
     "execution_count": 125,
     "metadata": {},
     "output_type": "execute_result"
    }
   ],
   "source": [
    "# b)(1)\n",
    "al[\"Salary\"].mean()"
   ]
  },
  {
   "cell_type": "code",
   "execution_count": 127,
   "metadata": {},
   "outputs": [
    {
     "data": {
      "text/plain": [
       "28324.43772089406"
      ]
     },
     "execution_count": 127,
     "metadata": {},
     "output_type": "execute_result"
    }
   ],
   "source": [
    "# c)(1)\n",
    "al[\"Salary\"].std()"
   ]
  },
  {
   "cell_type": "markdown",
   "metadata": {},
   "source": [
    "d) identify which alumni paid more than $15000 in fees, using the 'Fee' column"
   ]
  },
  {
   "cell_type": "code",
   "execution_count": 134,
   "metadata": {},
   "outputs": [
    {
     "data": {
      "text/html": [
       "<div>\n",
       "<style scoped>\n",
       "    .dataframe tbody tr th:only-of-type {\n",
       "        vertical-align: middle;\n",
       "    }\n",
       "\n",
       "    .dataframe tbody tr th {\n",
       "        vertical-align: top;\n",
       "    }\n",
       "\n",
       "    .dataframe thead th {\n",
       "        text-align: right;\n",
       "    }\n",
       "</style>\n",
       "<table border=\"1\" class=\"dataframe\">\n",
       "  <thead>\n",
       "    <tr style=\"text-align: right;\">\n",
       "      <th></th>\n",
       "      <th>Year Graduated</th>\n",
       "      <th>Gender</th>\n",
       "      <th>Marital Status</th>\n",
       "      <th>Diploma Type</th>\n",
       "      <th>Defaulted</th>\n",
       "      <th>Salary</th>\n",
       "      <th>Fee</th>\n",
       "      <th>Savings ($)</th>\n",
       "      <th>Savings</th>\n",
       "    </tr>\n",
       "  </thead>\n",
       "  <tbody>\n",
       "    <tr>\n",
       "      <th>18</th>\n",
       "      <td>2006</td>\n",
       "      <td>Male</td>\n",
       "      <td>Married</td>\n",
       "      <td>Standard Diploma</td>\n",
       "      <td>No</td>\n",
       "      <td>72000</td>\n",
       "      <td>20960</td>\n",
       "      <td>$72000</td>\n",
       "      <td>72000</td>\n",
       "    </tr>\n",
       "  </tbody>\n",
       "</table>\n",
       "</div>"
      ],
      "text/plain": [
       "    Year Graduated Gender Marital Status      Diploma Type Defaulted  Salary  \\\n",
       "18            2006   Male        Married  Standard Diploma        No   72000   \n",
       "\n",
       "      Fee Savings ($)  Savings  \n",
       "18  20960      $72000    72000  "
      ]
     },
     "execution_count": 134,
     "metadata": {},
     "output_type": "execute_result"
    }
   ],
   "source": [
    "# d) (1)\n",
    "paid_above_15k = al[al[\"Fee\"] >15000]\n",
    "paid_above_15k"
   ]
  },
  {
   "cell_type": "markdown",
   "metadata": {},
   "source": [
    "### Question 6 :  Visualise the data set (4 Marks)\n",
    "\n",
    "a) Using the 'Diploma Type' column, plot a bar chart and show its value counts."
   ]
  },
  {
   "cell_type": "code",
   "execution_count": 155,
   "metadata": {
    "scrolled": false
   },
   "outputs": [
    {
     "data": {
      "text/plain": [
       "<AxesSubplot:>"
      ]
     },
     "execution_count": 155,
     "metadata": {},
     "output_type": "execute_result"
    },
    {
     "data": {
      "image/png": "[encoded data removed]",
      "text/plain": [
       "<Figure size 432x288 with 1 Axes>"
      ]
     },
     "metadata": {
      "needs_background": "light"
     },
     "output_type": "display_data"
    }
   ],
   "source": [
    "#a) (1)\n",
    "al['Diploma Type'].value_counts().plot(kind='bar')"
   ]
  },
  {
   "cell_type": "markdown",
   "metadata": {},
   "source": [
    "b) Now create a box plot comparison between 'Savings' and 'Salary' columns"
   ]
  },
  {
   "cell_type": "code",
   "execution_count": 148,
   "metadata": {},
   "outputs": [
    {
     "data": {
      "text/plain": [
       "<AxesSubplot:>"
      ]
     },
     "execution_count": 148,
     "metadata": {},
     "output_type": "execute_result"
    },
    {
     "data": {
      "image/png": "[encoded data removed]",
      "text/plain": [
       "<Figure size 432x288 with 1 Axes>"
      ]
     },
     "metadata": {
      "needs_background": "light"
     },
     "output_type": "display_data"
    }
   ],
   "source": [
    "#b) (1)\n",
    "al.boxplot(column=['Savings', 'Salary'])"
   ]
  },
  {
   "cell_type": "markdown",
   "metadata": {},
   "source": [
    "c) Generate a histogram with the 'Salary' column and use 12 bins."
   ]
  },
  {
   "cell_type": "code",
   "execution_count": 162,
   "metadata": {},
   "outputs": [
    {
     "data": {
      "image/png": "[encoded data removed]",
      "text/plain": [
       "<Figure size 432x288 with 1 Axes>"
      ]
     },
     "metadata": {
      "needs_background": "light"
     },
     "output_type": "display_data"
    }
   ],
   "source": [
    "#c) (1)\n",
    "al.hist(column=['Salary'], bins=12)\n",
    "pt.show()"
   ]
  },
  {
   "cell_type": "markdown",
   "metadata": {},
   "source": [
    "d) Generate a scatter plot comparing 'Salary' and 'Savings' columns."
   ]
  },
  {
   "cell_type": "code",
   "execution_count": 158,
   "metadata": {
    "scrolled": true
   },
   "outputs": [
    {
     "data": {
      "image/png": "[encoded data removed]",
      "text/plain": [
       "<Figure size 432x288 with 1 Axes>"
      ]
     },
     "metadata": {
      "needs_background": "light"
     },
     "output_type": "display_data"
    }
   ],
   "source": [
    "#d) (1)\n",
    "al.plot(x ='Salary', y='Savings', kind = 'scatter')\n",
    "pt.show()"
   ]
  },
  {
   "cell_type": "markdown",
   "metadata": {},
   "source": [
    "### Question 7 :  Contingency Table (2 Marks)\n",
    "\n",
    "Using both the 'Martial Status' and 'Defaulted' create a contingency table. Hint: crosstab"
   ]
  },
  {
   "cell_type": "code",
   "execution_count": 178,
   "metadata": {},
   "outputs": [
    {
     "data": {
      "text/html": [
       "<div>\n",
       "<style scoped>\n",
       "    .dataframe tbody tr th:only-of-type {\n",
       "        vertical-align: middle;\n",
       "    }\n",
       "\n",
       "    .dataframe tbody tr th {\n",
       "        vertical-align: top;\n",
       "    }\n",
       "\n",
       "    .dataframe thead th {\n",
       "        text-align: right;\n",
       "    }\n",
       "</style>\n",
       "<table border=\"1\" class=\"dataframe\">\n",
       "  <thead>\n",
       "    <tr style=\"text-align: right;\">\n",
       "      <th>Defaulted</th>\n",
       "      <th>No</th>\n",
       "      <th>Yes</th>\n",
       "    </tr>\n",
       "    <tr>\n",
       "      <th>Marital Status</th>\n",
       "      <th></th>\n",
       "      <th></th>\n",
       "    </tr>\n",
       "  </thead>\n",
       "  <tbody>\n",
       "    <tr>\n",
       "      <th>Divorced</th>\n",
       "      <td>8</td>\n",
       "      <td>11</td>\n",
       "    </tr>\n",
       "    <tr>\n",
       "      <th>Married</th>\n",
       "      <td>19</td>\n",
       "      <td>16</td>\n",
       "    </tr>\n",
       "    <tr>\n",
       "      <th>Single</th>\n",
       "      <td>9</td>\n",
       "      <td>25</td>\n",
       "    </tr>\n",
       "  </tbody>\n",
       "</table>\n",
       "</div>"
      ],
      "text/plain": [
       "Defaulted       No  Yes\n",
       "Marital Status         \n",
       "Divorced         8   11\n",
       "Married         19   16\n",
       "Single           9   25"
      ]
     },
     "execution_count": 178,
     "metadata": {},
     "output_type": "execute_result"
    }
   ],
   "source": [
    "# Q7 (2)\n",
    "pds.crosstab(al[\"Marital Status\"], al[\"Defaulted\"])"
   ]
  },
  {
   "cell_type": "code",
   "execution_count": null,
   "metadata": {},
   "outputs": [],
   "source": []
  }
 ],
 "metadata": {
  "kernelspec": {
   "display_name": "Python 3",
   "language": "python",
   "name": "python3"
  },
  "language_info": {
   "codemirror_mode": {
    "name": "ipython",
    "version": 3
   },
   "file_extension": ".py",
   "mimetype": "text/x-python",
   "name": "python",
   "nbconvert_exporter": "python",
   "pygments_lexer": "ipython3",
   "version": "3.8.8"
  }
 },
 "nbformat": 4,
 "nbformat_minor": 2
}
